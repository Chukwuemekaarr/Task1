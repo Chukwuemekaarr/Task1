{
  "metadata": {
    "kernelspec": {
      "name": "python",
      "display_name": "Pyolite",
      "language": "python"
    },
    "language_info": {
      "codemirror_mode": {
        "name": "python",
        "version": 3
      },
      "file_extension": ".py",
      "mimetype": "text/x-python",
      "name": "python",
      "nbconvert_exporter": "python",
      "pygments_lexer": "ipython3",
      "version": "3.8"
    }
  },
  "nbformat_minor": 4,
  "nbformat": 4,
  "cells": [
    {
      "cell_type": "markdown",
      "source": "<center>\n    <img src=\"https://s3-api.us-geo.objectstorage.softlayer.net/cf-courses-data/CognitiveClass/Logos/organization_logo/organization_logo.png\" width=\"300\" alt=\"cognitiveclass.ai logo\"  />\n</center>\n",
      "metadata": {}
    },
    {
      "cell_type": "markdown",
      "source": "#### Add your code below following the instructions given in the course\n",
      "metadata": {}
    },
    {
      "cell_type": "markdown",
      "source": "# My Jupyter Notebook on IBM Watson Studio",
      "metadata": {}
    },
    {
      "cell_type": "markdown",
      "source": "**Amaghiro Godswill** <br> Data Scientist",
      "metadata": {}
    },
    {
      "cell_type": "markdown",
      "source": "_I am interested in data science because i want to be insrumental in helping businesses, organizations, establishments, governments in making data driven decisions that will bring about progressive growth and development_",
      "metadata": {}
    },
    {
      "cell_type": "markdown",
      "source": "# six plus five",
      "metadata": {}
    },
    {
      "cell_type": "code",
      "source": "6 + 5",
      "metadata": {
        "trusted": true
      },
      "execution_count": 4,
      "outputs": [
        {
          "execution_count": 4,
          "output_type": "execute_result",
          "data": {
            "text/plain": "11"
          },
          "metadata": {}
        }
      ]
    },
    {
      "cell_type": "markdown",
      "source": "-  Git\n-  GitHub\n-  Machine learming\n-  Neural Networks\n-  Kernel    <br>\n\n\n1. data\n2. file\n3. project\n4. job\n5. credentials  <br>\n\n\n\n| Column 1 | Column 2 | Column 4 | Column 5 |\n| -------: | :--------| :--------| :--------|\n| X        | True     | False    | True     |\n| Y        | False    | True     | False    |\n| Z        | True     | True     | False    |\n\n",
      "metadata": {
        "tags": []
      }
    }
  ]
}